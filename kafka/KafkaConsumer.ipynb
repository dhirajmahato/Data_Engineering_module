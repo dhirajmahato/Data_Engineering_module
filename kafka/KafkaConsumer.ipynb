{
 "cells": [
  {
   "cell_type": "code",
   "execution_count": 6,
   "id": "b6675043",
   "metadata": {},
   "outputs": [],
   "source": [
    "from kafka import KafkaConsumer\n",
    "from time import sleep\n",
    "from json import dumps,loads\n",
    "import json\n",
    "from s3fs import S3FileSystem"
   ]
  },
  {
   "cell_type": "code",
   "execution_count": 13,
   "id": "9eeff3ef",
   "metadata": {},
   "outputs": [
    {
     "name": "stdout",
     "output_type": "stream",
     "text": [
      "consumer is done\n",
      "<kafka.consumer.group.KafkaConsumer object at 0x7fee07e91a20>\n"
     ]
    }
   ],
   "source": [
    "consumer = KafkaConsumer(\n",
    "    'demo_test2',\n",
    "     bootstrap_servers=['13.235.190.117:9092'], #add your IP here\n",
    "    value_deserializer=lambda x: loads(x.decode('utf-8')))\n",
    "print(\"consumer is done\")\n",
    "print(consumer)"
   ]
  },
  {
   "cell_type": "code",
   "execution_count": 14,
   "id": "eda5a608",
   "metadata": {},
   "outputs": [
    {
     "name": "stdout",
     "output_type": "stream",
     "text": [
      "{'Index': 'N100', 'Date': '2001-10-17', 'Open': 746.340027, 'High': 761.700012, 'Low': 746.340027, 'Close': 753.609985, 'Adj Close': 753.609985, 'Volume': 0.0, 'CloseUSD': 919.4041817}\n",
      "{'Index': 'SSMI', 'Date': '2007-01-22', 'Open': 9154.5, 'High': 9182.099609, 'Low': 9085.200195, 'Close': 9102.200195, 'Adj Close': 9102.200195, 'Volume': 64020400.0, 'CloseUSD': 10103.44221645}\n",
      "{'Index': 'NYA', 'Date': '1992-08-25', 'Open': 2394.629883, 'High': 2394.629883, 'Low': 2394.629883, 'Close': 2394.629883, 'Adj Close': 2394.629883, 'Volume': 0.0, 'CloseUSD': 2394.629883}\n",
      "{'Index': 'NSEI', 'Date': '2011-07-11', 'Open': 5648.049805, 'High': 5652.899902, 'Low': 5601.700195, 'Close': 5616.100098, 'Adj Close': 5616.100098, 'Volume': 0.0, 'CloseUSD': 56.16100098}\n",
      "{'Index': 'IXIC', 'Date': '1976-07-08', 'Open': 90.790001, 'High': 90.790001, 'Low': 90.790001, 'Close': 90.790001, 'Adj Close': 90.790001, 'Volume': 0.0, 'CloseUSD': 90.790001}\n",
      "{'Index': 'NYA', 'Date': '1974-08-02', 'Open': 435.320007, 'High': 435.320007, 'Low': 435.320007, 'Close': 435.320007, 'Adj Close': 435.320007, 'Volume': 0.0, 'CloseUSD': 435.320007}\n",
      "{'Index': 'TWII', 'Date': '2002-05-13', 'Open': 5751.459961, 'High': 5775.660156, 'Low': 5718.600098, 'Close': 5742.660156, 'Adj Close': 5742.63916, 'Volume': 0.0, 'CloseUSD': 229.70640624}\n",
      "{'Index': 'N225', 'Date': '1989-10-20', 'Open': 35418.58984, 'High': 35611.37891, 'Low': 35418.58984, 'Close': 35486.37891, 'Adj Close': 35486.37891, 'Volume': 0.0, 'CloseUSD': 354.8637891}\n",
      "{'Index': 'N225', 'Date': '2020-01-10', 'Open': 23813.2793, 'High': 23903.28906, 'Low': 23761.08008, 'Close': 23850.57031, 'Adj Close': 23850.57031, 'Volume': 55900000.0, 'CloseUSD': 238.5057031}\n",
      "{'Index': 'GSPTSE', 'Date': '1992-08-18', 'Open': 3372.399902, 'High': 3380.100098, 'Low': 3369.199951, 'Close': 3377.800049, 'Adj Close': 3377.800049, 'Volume': 21180000.0, 'CloseUSD': 2803.57404067}\n",
      "{'Index': '399001.SZ', 'Date': '2018-11-30', 'Open': 7583.839844, 'High': 7688.879883, 'Low': 7537.919922, 'Close': 7681.75, 'Adj Close': 7681.719727, 'Volume': 77200.0, 'CloseUSD': 1229.08}\n",
      "{'Index': 'TWII', 'Date': '1998-06-10', 'Open': 7377.049805, 'High': 7422.649902, 'Low': 7220.129883, 'Close': 7223.129883, 'Adj Close': 7223.102539, 'Volume': 0.0, 'CloseUSD': 288.92519532}\n",
      "{'Index': '399001.SZ', 'Date': '2015-11-04', 'Open': 11351.25, 'High': 11884.90039, 'Low': 11351.25, 'Close': 11884.90039, 'Adj Close': 11884.76758, 'Volume': 1719400.0, 'CloseUSD': 1901.5840624}\n",
      "{'Index': 'N225', 'Date': '1999-04-19', 'Open': 16858.2793, 'High': 16858.2793, 'Low': 16583.64063, 'Close': 16674.21094, 'Adj Close': 16674.21094, 'Volume': 0.0, 'CloseUSD': 166.7421094}\n",
      "{'Index': 'SSMI', 'Date': '2007-01-04', 'Open': 8880.799805, 'High': 8925.200195, 'Low': 8865.900391, 'Close': 8925.200195, 'Adj Close': 8925.200195, 'Volume': 69011800.0, 'CloseUSD': 9906.97221645}\n",
      "{'Index': 'IXIC', 'Date': '1999-09-16', 'Open': 2820.840088, 'High': 2820.840088, 'Low': 2756.030029, 'Close': 2806.719971, 'Adj Close': 2806.719971, 'Volume': 960310000.0, 'CloseUSD': 2806.719971}\n",
      "{'Index': 'GDAXI', 'Date': '2009-06-15', 'Open': 5051.350098, 'High': 5051.350098, 'Low': 4886.399902, 'Close': 4889.939941, 'Adj Close': 4889.939941, 'Volume': 93486200.0, 'CloseUSD': 5965.726728019999}\n",
      "{'Index': 'N225', 'Date': '2009-01-20', 'Open': 8187.140137, 'High': 8190.419922, 'Low': 7962.459961, 'Close': 8065.790039, 'Adj Close': 8065.790039, 'Volume': 127900000.0, 'CloseUSD': 80.65790039000001}\n",
      "{'Index': 'NYA', 'Date': '1997-05-09', 'Open': 4538.560059, 'High': 4538.560059, 'Low': 4538.560059, 'Close': 4538.560059, 'Adj Close': 4538.560059, 'Volume': 0.0, 'CloseUSD': 4538.560059}\n",
      "{'Index': 'N225', 'Date': '1969-08-13', 'Open': 1910.869995, 'High': 1910.869995, 'Low': 1910.869995, 'Close': 1910.869995, 'Adj Close': 1910.869995, 'Volume': 0.0, 'CloseUSD': 19.10869995}\n",
      "{'Index': 'SSMI', 'Date': '2018-01-15', 'Open': 9534.660156, 'High': 9551.070313, 'Low': 9511.709961, 'Close': 9537.280273, 'Adj Close': 9537.280273, 'Volume': 30978100.0, 'CloseUSD': 10586.381103030002}\n",
      "{'Index': 'N225', 'Date': '2009-11-19', 'Open': 9691.860352, 'High': 9691.860352, 'Low': 9496.070313, 'Close': 9549.469727, 'Adj Close': 9549.469727, 'Volume': 203000000.0, 'CloseUSD': 95.49469727}\n",
      "{'Index': 'SSMI', 'Date': '1996-10-10', 'Open': 3808.399902, 'High': 3810.199951, 'Low': 3784.0, 'Close': 3797.300049, 'Adj Close': 3797.300049, 'Volume': 0.0, 'CloseUSD': 4215.00305439}\n",
      "{'Index': 'NYA', 'Date': '1988-07-14', 'Open': 1615.23999, 'High': 1615.23999, 'Low': 1615.23999, 'Close': 1615.23999, 'Adj Close': 1615.23999, 'Volume': 0.0, 'CloseUSD': 1615.23999}\n",
      "{'Index': '000001.SS', 'Date': '2000-11-15', 'Open': 2087.2771, 'High': 2092.649902, 'Low': 2074.376953, 'Close': 2081.905029, 'Adj Close': 2081.905029, 'Volume': 0.0, 'CloseUSD': 333.10480464}\n",
      "{'Index': '399001.SZ', 'Date': '1997-12-03', 'Open': 4191.209961, 'High': 4209.240234, 'Low': 4153.189941, 'Close': 4155.399902, 'Adj Close': 4155.353516, 'Volume': 0.0, 'CloseUSD': 664.86398432}\n",
      "{'Index': 'GDAXI', 'Date': '1990-07-03', 'Open': 1911.26001, 'High': 1911.26001, 'Low': 1911.26001, 'Close': 1911.26001, 'Adj Close': 1911.26001, 'Volume': 0.0, 'CloseUSD': 2331.7372122}\n",
      "{'Index': 'GDAXI', 'Date': '2000-04-26', 'Open': 7293.100098, 'High': 7444.279785, 'Low': 7293.100098, 'Close': 7388.549805, 'Adj Close': 7388.549805, 'Volume': 25812200.0, 'CloseUSD': 9014.0307621}\n",
      "{'Index': 'N225', 'Date': '1998-03-04', 'Open': 17123.98047, 'High': 17212.68945, 'Low': 17025.57031, 'Close': 17095.59961, 'Adj Close': 17095.59961, 'Volume': 0.0, 'CloseUSD': 170.95599610000002}\n",
      "{'Index': 'IXIC', 'Date': '1977-03-17', 'Open': 96.419998, 'High': 96.419998, 'Low': 96.419998, 'Close': 96.419998, 'Adj Close': 96.419998, 'Volume': 0.0, 'CloseUSD': 96.419998}\n",
      "{'Index': '000001.SS', 'Date': '1998-12-28', 'Open': 1175.630005, 'High': 1179.003052, 'Low': 1157.697998, 'Close': 1159.937012, 'Adj Close': 1159.937012, 'Volume': 0.0, 'CloseUSD': 185.58992192}\n",
      "{'Index': 'IXIC', 'Date': '2015-03-27', 'Open': 4863.740234, 'High': 4899.259766, 'Low': 4859.660156, 'Close': 4891.220215, 'Adj Close': 4891.220215, 'Volume': 1678650000.0, 'CloseUSD': 4891.220215}\n",
      "{'Index': 'NSEI', 'Date': '2012-12-07', 'Open': 5934.0, 'High': 5949.850098, 'Low': 5888.649902, 'Close': 5907.399902, 'Adj Close': 5907.399902, 'Volume': 0.0, 'CloseUSD': 59.07399902}\n",
      "{'Index': 'GSPTSE', 'Date': '1985-01-28', 'Open': 2549.0, 'High': 2566.0, 'Low': 2547.699951, 'Close': 2566.0, 'Adj Close': 2559.483643, 'Volume': 12650000.0, 'CloseUSD': 2129.78}\n",
      "{'Index': '000001.SS', 'Date': '1997-12-08', 'Open': 1140.546997, 'High': 1143.079956, 'Low': 1136.578979, 'Close': 1139.322021, 'Adj Close': 1139.322021, 'Volume': 0.0, 'CloseUSD': 182.29152336}\n",
      "{'Index': 'SSMI', 'Date': '1993-11-22', 'Open': 2732.199951, 'High': 2735.5, 'Low': 2696.5, 'Close': 2696.5, 'Adj Close': 2696.5, 'Volume': 0.0, 'CloseUSD': 2993.115}\n",
      "{'Index': 'IXIC', 'Date': '1972-10-13', 'Open': 127.190002, 'High': 127.190002, 'Low': 127.190002, 'Close': 127.190002, 'Adj Close': 127.190002, 'Volume': 0.0, 'CloseUSD': 127.190002}\n",
      "{'Index': 'NYA', 'Date': '2017-02-17', 'Open': 11468.00977, 'High': 11510.91992, 'Low': 11455.66016, 'Close': 11510.91016, 'Adj Close': 11510.91016, 'Volume': 3513060000.0, 'CloseUSD': 11510.91016}\n",
      "{'Index': 'NYA', 'Date': '1972-01-26', 'Open': 600.27002, 'High': 600.27002, 'Low': 600.27002, 'Close': 600.27002, 'Adj Close': 600.27002, 'Volume': 0.0, 'CloseUSD': 600.27002}\n",
      "{'Index': 'HSI', 'Date': '1993-03-08', 'Open': 6509.799805, 'High': 6511.100098, 'Low': 6433.200195, 'Close': 6482.200195, 'Adj Close': 6482.200195, 'Volume': 0.0, 'CloseUSD': 842.68602535}\n",
      "{'Index': '000001.SS', 'Date': '2011-08-30', 'Open': 2592.596924, 'High': 2615.13501, 'Low': 2563.688965, 'Close': 2566.594971, 'Adj Close': 2566.594971, 'Volume': 76000.0, 'CloseUSD': 410.65519536}\n",
      "{'Index': 'N100', 'Date': '2017-09-05', 'Open': 995.440002, 'High': 999.219971, 'Low': 991.599976, 'Close': 992.580017, 'Adj Close': 992.580017, 'Volume': 0.0, 'CloseUSD': 1210.94762074}\n",
      "{'Index': 'HSI', 'Date': '2007-07-06', 'Open': 22217.46094, 'High': 22565.42969, 'Low': 22081.34961, 'Close': 22531.74023, 'Adj Close': 22531.74023, 'Volume': 2258576800.0, 'CloseUSD': 2929.1262299}\n",
      "{'Index': 'NYA', 'Date': '1979-04-06', 'Open': 613.700012, 'High': 613.700012, 'Low': 613.700012, 'Close': 613.700012, 'Adj Close': 613.700012, 'Volume': 0.0, 'CloseUSD': 613.700012}\n",
      "{'Index': 'IXIC', 'Date': '1972-11-29', 'Open': 132.729996, 'High': 132.729996, 'Low': 132.729996, 'Close': 132.729996, 'Adj Close': 132.729996, 'Volume': 0.0, 'CloseUSD': 132.729996}\n",
      "{'Index': 'J203.JO', 'Date': '2017-07-25', 'Open': 54368.62109, 'High': 54802.03125, 'Low': 54368.62109, 'Close': 54499.10938, 'Adj Close': 54499.10938, 'Volume': 0.0, 'CloseUSD': 3814.937656600001}\n",
      "{'Index': 'IXIC', 'Date': '2014-02-28', 'Open': 4323.52002, 'High': 4342.589844, 'Low': 4275.609863, 'Close': 4308.120117, 'Adj Close': 4308.120117, 'Volume': 2617730000.0, 'CloseUSD': 4308.120117}\n",
      "{'Index': 'NYA', 'Date': '1999-03-02', 'Open': 6163.850098, 'High': 6163.850098, 'Low': 6163.850098, 'Close': 6163.850098, 'Adj Close': 6163.850098, 'Volume': 0.0, 'CloseUSD': 6163.850098}\n",
      "{'Index': 'TWII', 'Date': '2002-03-14', 'Open': 6045.549805, 'High': 6111.839844, 'Low': 6006.080078, 'Close': 6070.5, 'Adj Close': 6070.477539, 'Volume': 0.0, 'CloseUSD': 242.82}\n",
      "{'Index': 'NYA', 'Date': '1966-04-25', 'Open': 527.52002, 'High': 527.52002, 'Low': 527.52002, 'Close': 527.52002, 'Adj Close': 527.52002, 'Volume': 0.0, 'CloseUSD': 527.52002}\n",
      "{'Index': 'HSI', 'Date': '2017-04-13', 'Open': 24173.41992, 'High': 24378.38086, 'Low': 24158.16016, 'Close': 24261.66016, 'Adj Close': 24261.66016, 'Volume': 1334077800.0, 'CloseUSD': 3154.0158208000003}\n",
      "{'Index': 'GDAXI', 'Date': '2016-08-11', 'Open': 10687.57031, 'High': 10742.83984, 'Low': 10635.41992, 'Close': 10742.83984, 'Adj Close': 10742.83984, 'Volume': 73242600.0, 'CloseUSD': 13106.2646048}\n",
      "{'Index': '399001.SZ', 'Date': '2001-11-16', 'Open': 3503.080078, 'High': 3512.01001, 'Low': 3301.01001, 'Close': 3305.409912, 'Adj Close': 3305.373047, 'Volume': 0.0, 'CloseUSD': 528.8655859200001}\n",
      "{'Index': 'N225', 'Date': '1971-04-14', 'Open': 2437.530029, 'High': 2437.530029, 'Low': 2437.530029, 'Close': 2437.530029, 'Adj Close': 2437.530029, 'Volume': 0.0, 'CloseUSD': 24.37530029}\n",
      "{'Index': 'IXIC', 'Date': '1996-05-09', 'Open': 1184.849976, 'High': 1189.839966, 'Low': 1184.790039, 'Close': 1187.819946, 'Adj Close': 1187.819946, 'Volume': 635710000.0, 'CloseUSD': 1187.819946}\n",
      "{'Index': 'N225', 'Date': '1987-01-05', 'Open': 18820.55078, 'High': 18820.55078, 'Low': 18820.55078, 'Close': 18820.55078, 'Adj Close': 18820.55078, 'Volume': 0.0, 'CloseUSD': 188.2055078}\n",
      "{'Index': 'N225', 'Date': '1991-01-04', 'Open': 23827.48047, 'High': 24109.89063, 'Low': 23796.35938, 'Close': 24069.17969, 'Adj Close': 24069.17969, 'Volume': 0.0, 'CloseUSD': 240.6917969}\n",
      "{'Index': 'NSEI', 'Date': '2011-08-16', 'Open': 5125.75, 'High': 5132.200195, 'Low': 5015.399902, 'Close': 5035.799805, 'Adj Close': 5035.799805, 'Volume': 0.0, 'CloseUSD': 50.35799805}\n",
      "{'Index': 'NYA', 'Date': '1976-11-26', 'Open': 585.039978, 'High': 585.039978, 'Low': 585.039978, 'Close': 585.039978, 'Adj Close': 585.039978, 'Volume': 0.0, 'CloseUSD': 585.039978}\n",
      "{'Index': 'GDAXI', 'Date': '2010-07-14', 'Open': 6215.22998, 'High': 6226.540039, 'Low': 6161.129883, 'Close': 6209.759766, 'Adj Close': 6209.759766, 'Volume': 97857800.0, 'CloseUSD': 7575.90691452}\n",
      "{'Index': 'N225', 'Date': '1974-01-07', 'Open': 4180.700195, 'High': 4180.700195, 'Low': 4180.700195, 'Close': 4180.700195, 'Adj Close': 4180.700195, 'Volume': 0.0, 'CloseUSD': 41.80700195000001}\n",
      "{'Index': 'N225', 'Date': '1995-10-24', 'Open': 18122.46094, 'High': 18261.46094, 'Low': 18014.05078, 'Close': 18014.25, 'Adj Close': 18014.25, 'Volume': 0.0, 'CloseUSD': 180.1425}\n",
      "{'Index': 'TWII', 'Date': '2003-04-04', 'Open': 4343.430176, 'High': 4499.180176, 'Low': 4339.200195, 'Close': 4499.180176, 'Adj Close': 4499.163574, 'Volume': 2863600.0, 'CloseUSD': 179.96720704}\n",
      "{'Index': 'NYA', 'Date': '2007-12-12', 'Open': 9838.259766, 'High': 10070.08984, 'Low': 9816.209961, 'Close': 9921.639648, 'Adj Close': 9921.639648, 'Volume': 4482120000.0, 'CloseUSD': 9921.639648}\n",
      "{'Index': 'GDAXI', 'Date': '2018-06-27', 'Open': 12247.75, 'High': 12439.91016, 'Low': 12124.87012, 'Close': 12348.61035, 'Adj Close': 12348.61035, 'Volume': 127889100.0, 'CloseUSD': 15065.304627}\n",
      "{'Index': 'NYA', 'Date': '1991-02-01', 'Open': 1981.52002, 'High': 1981.52002, 'Low': 1981.52002, 'Close': 1981.52002, 'Adj Close': 1981.52002, 'Volume': 0.0, 'CloseUSD': 1981.52002}\n",
      "{'Index': 'SSMI', 'Date': '2003-08-18', 'Open': 5143.5, 'High': 5170.200195, 'Low': 5128.200195, 'Close': 5167.399902, 'Adj Close': 5167.399902, 'Volume': 49629000.0, 'CloseUSD': 5735.81389122}\n",
      "{'Index': 'IXIC', 'Date': '1971-07-14', 'Open': 110.339996, 'High': 110.339996, 'Low': 110.339996, 'Close': 110.339996, 'Adj Close': 110.339996, 'Volume': 0.0, 'CloseUSD': 110.339996}\n",
      "{'Index': 'GSPTSE', 'Date': '2009-10-21', 'Open': 11475.0, 'High': 11595.0, 'Low': 11437.59961, 'Close': 11442.0, 'Adj Close': 11442.0, 'Volume': 19019610000.0, 'CloseUSD': 9496.86}\n",
      "{'Index': 'NYA', 'Date': '2008-02-26', 'Open': 9209.5, 'High': 9332.669922, 'Low': 9166.959961, 'Close': 9302.799805, 'Adj Close': 9302.799805, 'Volume': 4096060000.0, 'CloseUSD': 9302.799805}\n",
      "{'Index': 'NYA', 'Date': '1967-04-06', 'Open': 522.340027, 'High': 522.340027, 'Low': 522.340027, 'Close': 522.340027, 'Adj Close': 522.340027, 'Volume': 0.0, 'CloseUSD': 522.340027}\n",
      "{'Index': 'GSPTSE', 'Date': '2008-05-14', 'Open': 14628.0, 'High': 14737.2002, 'Low': 14614.0, 'Close': 14626.29981, 'Adj Close': 14626.29981, 'Volume': 23558030000.0, 'CloseUSD': 12139.8288423}\n",
      "{'Index': 'GSPTSE', 'Date': '2005-02-14', 'Open': 9564.700195, 'High': 9585.200195, 'Low': 9544.5, 'Close': 9585.200195, 'Adj Close': 9585.200195, 'Volume': 10175880000.0, 'CloseUSD': 7955.716161849999}\n",
      "{'Index': 'IXIC', 'Date': '1973-07-03', 'Open': 99.449997, 'High': 99.449997, 'Low': 99.449997, 'Close': 99.449997, 'Adj Close': 99.449997, 'Volume': 0.0, 'CloseUSD': 99.449997}\n",
      "{'Index': 'NYA', 'Date': '2005-07-06', 'Open': 7289.399902, 'High': 7303.959961, 'Low': 7251.490234, 'Close': 7251.870117, 'Adj Close': 7251.870117, 'Volume': 1883470000.0, 'CloseUSD': 7251.870117}\n",
      "{'Index': 'N225', 'Date': '1997-06-30', 'Open': 20585.85938, 'High': 20683.57031, 'Low': 20493.05078, 'Close': 20604.96094, 'Adj Close': 20604.96094, 'Volume': 0.0, 'CloseUSD': 206.0496094}\n",
      "{'Index': 'IXIC', 'Date': '2004-10-06', 'Open': 1953.910034, 'High': 1971.040039, 'Low': 1947.23999, 'Close': 1971.030029, 'Adj Close': 1971.030029, 'Volume': 1922870000.0, 'CloseUSD': 1971.030029}\n",
      "{'Index': 'N225', 'Date': '1981-03-13', 'Open': 6956.52002, 'High': 6956.52002, 'Low': 6956.52002, 'Close': 6956.52002, 'Adj Close': 6956.52002, 'Volume': 0.0, 'CloseUSD': 69.5652002}\n",
      "{'Index': 'IXIC', 'Date': '1973-10-23', 'Open': 111.809998, 'High': 111.809998, 'Low': 111.809998, 'Close': 111.809998, 'Adj Close': 111.809998, 'Volume': 0.0, 'CloseUSD': 111.809998}\n",
      "{'Index': 'NYA', 'Date': '1982-10-25', 'Open': 810.47998, 'High': 810.47998, 'Low': 810.47998, 'Close': 810.47998, 'Adj Close': 810.47998, 'Volume': 0.0, 'CloseUSD': 810.47998}\n",
      "{'Index': 'N225', 'Date': '1978-01-24', 'Open': 5025.890137, 'High': 5025.890137, 'Low': 5025.890137, 'Close': 5025.890137, 'Adj Close': 5025.890137, 'Volume': 0.0, 'CloseUSD': 50.25890137}\n",
      "{'Index': 'TWII', 'Date': '2012-09-04', 'Open': 7471.310059, 'High': 7479.009766, 'Low': 7440.029785, 'Close': 7451.350098, 'Adj Close': 7451.322266, 'Volume': 1888800.0, 'CloseUSD': 298.05400392}\n",
      "{'Index': '000001.SS', 'Date': '2006-03-01', 'Open': 1299.154053, 'High': 1308.196045, 'Low': 1297.762939, 'Close': 1306.58606, 'Adj Close': 1306.58606, 'Volume': 23600.0, 'CloseUSD': 209.0537696}\n",
      "{'Index': 'HSI', 'Date': '1992-11-06', 'Open': 6369.700195, 'High': 6401.700195, 'Low': 6312.200195, 'Close': 6315.0, 'Adj Close': 6315.0, 'Volume': 0.0, 'CloseUSD': 820.95}\n",
      "{'Index': 'N100', 'Date': '2020-07-16', 'Open': 1006.219971, 'High': 1010.969971, 'Low': 1000.530029, 'Close': 1008.599976, 'Adj Close': 1008.599976, 'Volume': 180863000.0, 'CloseUSD': 1230.49197072}\n",
      "{'Index': 'NYA', 'Date': '1970-10-05', 'Open': 500.670013, 'High': 500.670013, 'Low': 500.670013, 'Close': 500.670013, 'Adj Close': 500.670013, 'Volume': 0.0, 'CloseUSD': 500.670013}\n",
      "{'Index': 'GSPTSE', 'Date': '1989-09-28', 'Open': 3923.800049, 'High': 3941.0, 'Low': 3923.0, 'Close': 3941.0, 'Adj Close': 3930.992188, 'Volume': 30970000.0, 'CloseUSD': 3271.03}\n",
      "{'Index': 'GDAXI', 'Date': '1997-08-21', 'Open': 4277.740234, 'High': 4279.919922, 'Low': 4191.689941, 'Close': 4204.810059, 'Adj Close': 4204.810059, 'Volume': 0.0, 'CloseUSD': 5129.86827198}\n",
      "{'Index': 'GDAXI', 'Date': '2008-08-13', 'Open': 6562.970215, 'High': 6566.620117, 'Low': 6417.330078, 'Close': 6422.189941, 'Adj Close': 6422.189941, 'Volume': 165121000.0, 'CloseUSD': 7835.07172802}\n",
      "{'Index': 'IXIC', 'Date': '2000-08-23', 'Open': 3935.51001, 'High': 4011.76001, 'Low': 3902.110107, 'Close': 4011.01001, 'Adj Close': 4011.01001, 'Volume': 1461790000.0, 'CloseUSD': 4011.01001}\n",
      "{'Index': 'N225', 'Date': '1978-05-10', 'Open': 5486.120117, 'High': 5486.120117, 'Low': 5486.120117, 'Close': 5486.120117, 'Adj Close': 5486.120117, 'Volume': 0.0, 'CloseUSD': 54.86120117000001}\n",
      "{'Index': 'GDAXI', 'Date': '2014-11-03', 'Open': 9305.730469, 'High': 9343.639648, 'Low': 9236.179688, 'Close': 9251.700195, 'Adj Close': 9251.700195, 'Volume': 79777600.0, 'CloseUSD': 11287.074237899998}\n",
      "{'Index': '399001.SZ', 'Date': '2002-06-17', 'Open': 3011.399902, 'High': 3022.76001, 'Low': 3000.429932, 'Close': 3022.02002, 'Adj Close': 3021.986084, 'Volume': 0.0, 'CloseUSD': 483.5232032}\n",
      "{'Index': 'N225', 'Date': '1993-11-30', 'Open': 16113.41016, 'High': 16505.15039, 'Low': 16004.0, 'Close': 16406.53906, 'Adj Close': 16406.53906, 'Volume': 0.0, 'CloseUSD': 164.0653906}\n",
      "{'Index': 'NYA', 'Date': '1989-10-24', 'Open': 2009.540039, 'High': 2009.540039, 'Low': 2009.540039, 'Close': 2009.540039, 'Adj Close': 2009.540039, 'Volume': 0.0, 'CloseUSD': 2009.540039}\n",
      "{'Index': 'NYA', 'Date': '2018-03-19', 'Open': 12755.54981, 'High': 12755.54981, 'Low': 12580.07031, 'Close': 12651.45996, 'Adj Close': 12651.45996, 'Volume': 3302130000.0, 'CloseUSD': 12651.45996}\n",
      "{'Index': 'HSI', 'Date': '1992-11-19', 'Open': 5909.299805, 'High': 5916.100098, 'Low': 5642.700195, 'Close': 5855.399902, 'Adj Close': 5855.399902, 'Volume': 0.0, 'CloseUSD': 761.20198726}\n",
      "{'Index': 'GSPTSE', 'Date': '1982-09-03', 'Open': 1651.400024, 'High': 1664.699951, 'Low': 1647.099976, 'Close': 1650.699951, 'Adj Close': 1646.508057, 'Volume': 0.0, 'CloseUSD': 1370.08095933}\n",
      "{'Index': 'J203.JO', 'Date': '2020-05-26', 'Open': 50074.21094, 'High': 50819.37891, 'Low': 50074.21094, 'Close': 50602.5, 'Adj Close': 50602.5, 'Volume': 0.0, 'CloseUSD': 3542.175}\n",
      "{'Index': 'N225', 'Date': '2012-10-23', 'Open': 9066.030273, 'High': 9075.580078, 'Low': 8970.5, 'Close': 9014.25, 'Adj Close': 9014.25, 'Volume': 116300000.0, 'CloseUSD': 90.1425}\n",
      "{'Index': '399001.SZ', 'Date': '2003-07-22', 'Open': 3335.419922, 'High': 3366.360107, 'Low': 3289.919922, 'Close': 3328.889893, 'Adj Close': 3328.852539, 'Volume': 0.0, 'CloseUSD': 532.62238288}\n",
      "{'Index': 'GDAXI', 'Date': '2009-08-24', 'Open': 5482.600098, 'High': 5531.759766, 'Low': 5481.359863, 'Close': 5519.75, 'Adj Close': 5519.75, 'Volume': 77066000.0, 'CloseUSD': 6734.095}\n",
      "{'Index': 'NSEI', 'Date': '2013-08-05', 'Open': 5682.399902, 'High': 5721.0, 'Low': 5661.5, 'Close': 5685.399902, 'Adj Close': 5685.399902, 'Volume': 197200.0, 'CloseUSD': 56.85399902}\n",
      "{'Index': 'SSMI', 'Date': '2014-09-26', 'Open': 8756.230469, 'High': 8805.910156, 'Low': 8726.719727, 'Close': 8774.360352, 'Adj Close': 8774.360352, 'Volume': 43838800.0, 'CloseUSD': 9739.53999072}\n",
      "{'Index': 'SSMI', 'Date': '2010-09-15', 'Open': 6467.589844, 'High': 6473.910156, 'Low': 6417.77002, 'Close': 6434.009766, 'Adj Close': 6434.009766, 'Volume': 49072300.0, 'CloseUSD': 7141.750840260001}\n",
      "{'Index': 'N100', 'Date': '2019-01-02', 'Open': 902.049988, 'High': 912.52002, 'Low': 894.559998, 'Close': 910.349976, 'Adj Close': 910.349976, 'Volume': 158629200.0, 'CloseUSD': 1110.62697072}\n",
      "{'Index': 'GDAXI', 'Date': '2020-05-15', 'Open': 10470.84961, 'High': 10547.19043, 'Low': 10382.54004, 'Close': 10465.16992, 'Adj Close': 10465.16992, 'Volume': 116082600.0, 'CloseUSD': 12767.5073024}\n",
      "{'Index': 'NYA', 'Date': '1982-04-20', 'Open': 703.679993, 'High': 703.679993, 'Low': 703.679993, 'Close': 703.679993, 'Adj Close': 703.679993, 'Volume': 0.0, 'CloseUSD': 703.679993}\n"
     ]
    },
    {
     "ename": "KeyboardInterrupt",
     "evalue": "",
     "output_type": "error",
     "traceback": [
      "\u001b[0;31m---------------------------------------------------------------------------\u001b[0m",
      "\u001b[0;31mKeyboardInterrupt\u001b[0m                         Traceback (most recent call last)",
      "Cell \u001b[0;32mIn[14], line 1\u001b[0m\n\u001b[0;32m----> 1\u001b[0m \u001b[38;5;28;01mfor\u001b[39;00m c \u001b[38;5;129;01min\u001b[39;00m consumer:\n\u001b[1;32m      2\u001b[0m     \u001b[38;5;28mprint\u001b[39m(c\u001b[38;5;241m.\u001b[39mvalue)\n",
      "File \u001b[0;32m~/Documents/Projects/PyProjects/virtenv3/lib/python3.10/site-packages/kafka/consumer/group.py:1193\u001b[0m, in \u001b[0;36mKafkaConsumer.__next__\u001b[0;34m(self)\u001b[0m\n\u001b[1;32m   1191\u001b[0m     \u001b[38;5;28;01mreturn\u001b[39;00m \u001b[38;5;28mself\u001b[39m\u001b[38;5;241m.\u001b[39mnext_v1()\n\u001b[1;32m   1192\u001b[0m \u001b[38;5;28;01melse\u001b[39;00m:\n\u001b[0;32m-> 1193\u001b[0m     \u001b[38;5;28;01mreturn\u001b[39;00m \u001b[38;5;28;43mself\u001b[39;49m\u001b[38;5;241;43m.\u001b[39;49m\u001b[43mnext_v2\u001b[49m\u001b[43m(\u001b[49m\u001b[43m)\u001b[49m\n",
      "File \u001b[0;32m~/Documents/Projects/PyProjects/virtenv3/lib/python3.10/site-packages/kafka/consumer/group.py:1201\u001b[0m, in \u001b[0;36mKafkaConsumer.next_v2\u001b[0;34m(self)\u001b[0m\n\u001b[1;32m   1199\u001b[0m     \u001b[38;5;28mself\u001b[39m\u001b[38;5;241m.\u001b[39m_iterator \u001b[38;5;241m=\u001b[39m \u001b[38;5;28mself\u001b[39m\u001b[38;5;241m.\u001b[39m_message_generator_v2()\n\u001b[1;32m   1200\u001b[0m \u001b[38;5;28;01mtry\u001b[39;00m:\n\u001b[0;32m-> 1201\u001b[0m     \u001b[38;5;28;01mreturn\u001b[39;00m \u001b[38;5;28;43mnext\u001b[39;49m\u001b[43m(\u001b[49m\u001b[38;5;28;43mself\u001b[39;49m\u001b[38;5;241;43m.\u001b[39;49m\u001b[43m_iterator\u001b[49m\u001b[43m)\u001b[49m\n\u001b[1;32m   1202\u001b[0m \u001b[38;5;28;01mexcept\u001b[39;00m \u001b[38;5;167;01mStopIteration\u001b[39;00m:\n\u001b[1;32m   1203\u001b[0m     \u001b[38;5;28mself\u001b[39m\u001b[38;5;241m.\u001b[39m_iterator \u001b[38;5;241m=\u001b[39m \u001b[38;5;28;01mNone\u001b[39;00m\n",
      "File \u001b[0;32m~/Documents/Projects/PyProjects/virtenv3/lib/python3.10/site-packages/kafka/consumer/group.py:1116\u001b[0m, in \u001b[0;36mKafkaConsumer._message_generator_v2\u001b[0;34m(self)\u001b[0m\n\u001b[1;32m   1114\u001b[0m \u001b[38;5;28;01mdef\u001b[39;00m \u001b[38;5;21m_message_generator_v2\u001b[39m(\u001b[38;5;28mself\u001b[39m):\n\u001b[1;32m   1115\u001b[0m     timeout_ms \u001b[38;5;241m=\u001b[39m \u001b[38;5;241m1000\u001b[39m \u001b[38;5;241m*\u001b[39m (\u001b[38;5;28mself\u001b[39m\u001b[38;5;241m.\u001b[39m_consumer_timeout \u001b[38;5;241m-\u001b[39m time\u001b[38;5;241m.\u001b[39mtime())\n\u001b[0;32m-> 1116\u001b[0m     record_map \u001b[38;5;241m=\u001b[39m \u001b[38;5;28;43mself\u001b[39;49m\u001b[38;5;241;43m.\u001b[39;49m\u001b[43mpoll\u001b[49m\u001b[43m(\u001b[49m\u001b[43mtimeout_ms\u001b[49m\u001b[38;5;241;43m=\u001b[39;49m\u001b[43mtimeout_ms\u001b[49m\u001b[43m,\u001b[49m\u001b[43m \u001b[49m\u001b[43mupdate_offsets\u001b[49m\u001b[38;5;241;43m=\u001b[39;49m\u001b[38;5;28;43;01mFalse\u001b[39;49;00m\u001b[43m)\u001b[49m\n\u001b[1;32m   1117\u001b[0m     \u001b[38;5;28;01mfor\u001b[39;00m tp, records \u001b[38;5;129;01min\u001b[39;00m six\u001b[38;5;241m.\u001b[39miteritems(record_map):\n\u001b[1;32m   1118\u001b[0m         \u001b[38;5;66;03m# Generators are stateful, and it is possible that the tp / records\u001b[39;00m\n\u001b[1;32m   1119\u001b[0m         \u001b[38;5;66;03m# here may become stale during iteration -- i.e., we seek to a\u001b[39;00m\n\u001b[1;32m   1120\u001b[0m         \u001b[38;5;66;03m# different offset, pause consumption, or lose assignment.\u001b[39;00m\n\u001b[1;32m   1121\u001b[0m         \u001b[38;5;28;01mfor\u001b[39;00m record \u001b[38;5;129;01min\u001b[39;00m records:\n\u001b[1;32m   1122\u001b[0m             \u001b[38;5;66;03m# is_fetchable(tp) should handle assignment changes and offset\u001b[39;00m\n\u001b[1;32m   1123\u001b[0m             \u001b[38;5;66;03m# resets; for all other changes (e.g., seeks) we'll rely on the\u001b[39;00m\n\u001b[1;32m   1124\u001b[0m             \u001b[38;5;66;03m# outer function destroying the existing iterator/generator\u001b[39;00m\n\u001b[1;32m   1125\u001b[0m             \u001b[38;5;66;03m# via self._iterator = None\u001b[39;00m\n",
      "File \u001b[0;32m~/Documents/Projects/PyProjects/virtenv3/lib/python3.10/site-packages/kafka/consumer/group.py:655\u001b[0m, in \u001b[0;36mKafkaConsumer.poll\u001b[0;34m(self, timeout_ms, max_records, update_offsets)\u001b[0m\n\u001b[1;32m    653\u001b[0m remaining \u001b[38;5;241m=\u001b[39m timeout_ms\n\u001b[1;32m    654\u001b[0m \u001b[38;5;28;01mwhile\u001b[39;00m \u001b[38;5;28;01mTrue\u001b[39;00m:\n\u001b[0;32m--> 655\u001b[0m     records \u001b[38;5;241m=\u001b[39m \u001b[38;5;28;43mself\u001b[39;49m\u001b[38;5;241;43m.\u001b[39;49m\u001b[43m_poll_once\u001b[49m\u001b[43m(\u001b[49m\u001b[43mremaining\u001b[49m\u001b[43m,\u001b[49m\u001b[43m \u001b[49m\u001b[43mmax_records\u001b[49m\u001b[43m,\u001b[49m\u001b[43m \u001b[49m\u001b[43mupdate_offsets\u001b[49m\u001b[38;5;241;43m=\u001b[39;49m\u001b[43mupdate_offsets\u001b[49m\u001b[43m)\u001b[49m\n\u001b[1;32m    656\u001b[0m     \u001b[38;5;28;01mif\u001b[39;00m records:\n\u001b[1;32m    657\u001b[0m         \u001b[38;5;28;01mreturn\u001b[39;00m records\n",
      "File \u001b[0;32m~/Documents/Projects/PyProjects/virtenv3/lib/python3.10/site-packages/kafka/consumer/group.py:702\u001b[0m, in \u001b[0;36mKafkaConsumer._poll_once\u001b[0;34m(self, timeout_ms, max_records, update_offsets)\u001b[0m\n\u001b[1;32m    699\u001b[0m     \u001b[38;5;28mself\u001b[39m\u001b[38;5;241m.\u001b[39m_client\u001b[38;5;241m.\u001b[39mpoll(timeout_ms\u001b[38;5;241m=\u001b[39m\u001b[38;5;241m0\u001b[39m)\n\u001b[1;32m    701\u001b[0m timeout_ms \u001b[38;5;241m=\u001b[39m \u001b[38;5;28mmin\u001b[39m(timeout_ms, \u001b[38;5;28mself\u001b[39m\u001b[38;5;241m.\u001b[39m_coordinator\u001b[38;5;241m.\u001b[39mtime_to_next_poll() \u001b[38;5;241m*\u001b[39m \u001b[38;5;241m1000\u001b[39m)\n\u001b[0;32m--> 702\u001b[0m \u001b[38;5;28;43mself\u001b[39;49m\u001b[38;5;241;43m.\u001b[39;49m\u001b[43m_client\u001b[49m\u001b[38;5;241;43m.\u001b[39;49m\u001b[43mpoll\u001b[49m\u001b[43m(\u001b[49m\u001b[43mtimeout_ms\u001b[49m\u001b[38;5;241;43m=\u001b[39;49m\u001b[43mtimeout_ms\u001b[49m\u001b[43m)\u001b[49m\n\u001b[1;32m    703\u001b[0m \u001b[38;5;66;03m# after the long poll, we should check whether the group needs to rebalance\u001b[39;00m\n\u001b[1;32m    704\u001b[0m \u001b[38;5;66;03m# prior to returning data so that the group can stabilize faster\u001b[39;00m\n\u001b[1;32m    705\u001b[0m \u001b[38;5;28;01mif\u001b[39;00m \u001b[38;5;28mself\u001b[39m\u001b[38;5;241m.\u001b[39m_coordinator\u001b[38;5;241m.\u001b[39mneed_rejoin():\n",
      "File \u001b[0;32m~/Documents/Projects/PyProjects/virtenv3/lib/python3.10/site-packages/kafka/client_async.py:602\u001b[0m, in \u001b[0;36mKafkaClient.poll\u001b[0;34m(self, timeout_ms, future)\u001b[0m\n\u001b[1;32m    599\u001b[0m             timeout \u001b[38;5;241m=\u001b[39m \u001b[38;5;28mmin\u001b[39m(timeout, \u001b[38;5;28mself\u001b[39m\u001b[38;5;241m.\u001b[39mconfig[\u001b[38;5;124m'\u001b[39m\u001b[38;5;124mretry_backoff_ms\u001b[39m\u001b[38;5;124m'\u001b[39m])\n\u001b[1;32m    600\u001b[0m         timeout \u001b[38;5;241m=\u001b[39m \u001b[38;5;28mmax\u001b[39m(\u001b[38;5;241m0\u001b[39m, timeout)  \u001b[38;5;66;03m# avoid negative timeouts\u001b[39;00m\n\u001b[0;32m--> 602\u001b[0m     \u001b[38;5;28;43mself\u001b[39;49m\u001b[38;5;241;43m.\u001b[39;49m\u001b[43m_poll\u001b[49m\u001b[43m(\u001b[49m\u001b[43mtimeout\u001b[49m\u001b[43m \u001b[49m\u001b[38;5;241;43m/\u001b[39;49m\u001b[43m \u001b[49m\u001b[38;5;241;43m1000\u001b[39;49m\u001b[43m)\u001b[49m\n\u001b[1;32m    604\u001b[0m \u001b[38;5;66;03m# called without the lock to avoid deadlock potential\u001b[39;00m\n\u001b[1;32m    605\u001b[0m \u001b[38;5;66;03m# if handlers need to acquire locks\u001b[39;00m\n\u001b[1;32m    606\u001b[0m responses\u001b[38;5;241m.\u001b[39mextend(\u001b[38;5;28mself\u001b[39m\u001b[38;5;241m.\u001b[39m_fire_pending_completed_requests())\n",
      "File \u001b[0;32m~/Documents/Projects/PyProjects/virtenv3/lib/python3.10/site-packages/kafka/client_async.py:634\u001b[0m, in \u001b[0;36mKafkaClient._poll\u001b[0;34m(self, timeout)\u001b[0m\n\u001b[1;32m    631\u001b[0m \u001b[38;5;28mself\u001b[39m\u001b[38;5;241m.\u001b[39m_register_send_sockets()\n\u001b[1;32m    633\u001b[0m start_select \u001b[38;5;241m=\u001b[39m time\u001b[38;5;241m.\u001b[39mtime()\n\u001b[0;32m--> 634\u001b[0m ready \u001b[38;5;241m=\u001b[39m \u001b[38;5;28;43mself\u001b[39;49m\u001b[38;5;241;43m.\u001b[39;49m\u001b[43m_selector\u001b[49m\u001b[38;5;241;43m.\u001b[39;49m\u001b[43mselect\u001b[49m\u001b[43m(\u001b[49m\u001b[43mtimeout\u001b[49m\u001b[43m)\u001b[49m\n\u001b[1;32m    635\u001b[0m end_select \u001b[38;5;241m=\u001b[39m time\u001b[38;5;241m.\u001b[39mtime()\n\u001b[1;32m    636\u001b[0m \u001b[38;5;28;01mif\u001b[39;00m \u001b[38;5;28mself\u001b[39m\u001b[38;5;241m.\u001b[39m_sensors:\n",
      "File \u001b[0;32m/usr/lib/python3.10/selectors.py:469\u001b[0m, in \u001b[0;36mEpollSelector.select\u001b[0;34m(self, timeout)\u001b[0m\n\u001b[1;32m    467\u001b[0m ready \u001b[38;5;241m=\u001b[39m []\n\u001b[1;32m    468\u001b[0m \u001b[38;5;28;01mtry\u001b[39;00m:\n\u001b[0;32m--> 469\u001b[0m     fd_event_list \u001b[38;5;241m=\u001b[39m \u001b[38;5;28;43mself\u001b[39;49m\u001b[38;5;241;43m.\u001b[39;49m\u001b[43m_selector\u001b[49m\u001b[38;5;241;43m.\u001b[39;49m\u001b[43mpoll\u001b[49m\u001b[43m(\u001b[49m\u001b[43mtimeout\u001b[49m\u001b[43m,\u001b[49m\u001b[43m \u001b[49m\u001b[43mmax_ev\u001b[49m\u001b[43m)\u001b[49m\n\u001b[1;32m    470\u001b[0m \u001b[38;5;28;01mexcept\u001b[39;00m \u001b[38;5;167;01mInterruptedError\u001b[39;00m:\n\u001b[1;32m    471\u001b[0m     \u001b[38;5;28;01mreturn\u001b[39;00m ready\n",
      "\u001b[0;31mKeyboardInterrupt\u001b[0m: "
     ]
    }
   ],
   "source": [
    "for c in consumer:\n",
    "    print(c.value)"
   ]
  },
  {
   "cell_type": "code",
   "execution_count": 15,
   "id": "8d60dc6c",
   "metadata": {},
   "outputs": [],
   "source": [
    "s3 = S3FileSystem()"
   ]
  },
  {
   "cell_type": "code",
   "execution_count": 16,
   "id": "0f135e81",
   "metadata": {},
   "outputs": [
    {
     "ename": "KeyboardInterrupt",
     "evalue": "",
     "output_type": "error",
     "traceback": [
      "\u001b[0;31m---------------------------------------------------------------------------\u001b[0m",
      "\u001b[0;31mKeyboardInterrupt\u001b[0m                         Traceback (most recent call last)",
      "Cell \u001b[0;32mIn[16], line 1\u001b[0m\n\u001b[0;32m----> 1\u001b[0m \u001b[38;5;28;01mfor\u001b[39;00m count, i \u001b[38;5;129;01min\u001b[39;00m \u001b[38;5;28menumerate\u001b[39m(consumer):\n\u001b[1;32m      2\u001b[0m     \u001b[38;5;28;01mwith\u001b[39;00m s3\u001b[38;5;241m.\u001b[39mopen(\u001b[38;5;124m\"\u001b[39m\u001b[38;5;124ms3://kafka-stock-market-tutorial-youtube-darshil/stock_market_\u001b[39m\u001b[38;5;132;01m{}\u001b[39;00m\u001b[38;5;124m.json\u001b[39m\u001b[38;5;124m\"\u001b[39m\u001b[38;5;241m.\u001b[39mformat(count), \u001b[38;5;124m'\u001b[39m\u001b[38;5;124mw\u001b[39m\u001b[38;5;124m'\u001b[39m) \u001b[38;5;28;01mas\u001b[39;00m file:\n\u001b[1;32m      3\u001b[0m         json\u001b[38;5;241m.\u001b[39mdump(i\u001b[38;5;241m.\u001b[39mvalue, file)    \n",
      "File \u001b[0;32m~/Documents/Projects/PyProjects/virtenv3/lib/python3.10/site-packages/kafka/consumer/group.py:1193\u001b[0m, in \u001b[0;36mKafkaConsumer.__next__\u001b[0;34m(self)\u001b[0m\n\u001b[1;32m   1191\u001b[0m     \u001b[38;5;28;01mreturn\u001b[39;00m \u001b[38;5;28mself\u001b[39m\u001b[38;5;241m.\u001b[39mnext_v1()\n\u001b[1;32m   1192\u001b[0m \u001b[38;5;28;01melse\u001b[39;00m:\n\u001b[0;32m-> 1193\u001b[0m     \u001b[38;5;28;01mreturn\u001b[39;00m \u001b[38;5;28;43mself\u001b[39;49m\u001b[38;5;241;43m.\u001b[39;49m\u001b[43mnext_v2\u001b[49m\u001b[43m(\u001b[49m\u001b[43m)\u001b[49m\n",
      "File \u001b[0;32m~/Documents/Projects/PyProjects/virtenv3/lib/python3.10/site-packages/kafka/consumer/group.py:1201\u001b[0m, in \u001b[0;36mKafkaConsumer.next_v2\u001b[0;34m(self)\u001b[0m\n\u001b[1;32m   1199\u001b[0m     \u001b[38;5;28mself\u001b[39m\u001b[38;5;241m.\u001b[39m_iterator \u001b[38;5;241m=\u001b[39m \u001b[38;5;28mself\u001b[39m\u001b[38;5;241m.\u001b[39m_message_generator_v2()\n\u001b[1;32m   1200\u001b[0m \u001b[38;5;28;01mtry\u001b[39;00m:\n\u001b[0;32m-> 1201\u001b[0m     \u001b[38;5;28;01mreturn\u001b[39;00m \u001b[38;5;28;43mnext\u001b[39;49m\u001b[43m(\u001b[49m\u001b[38;5;28;43mself\u001b[39;49m\u001b[38;5;241;43m.\u001b[39;49m\u001b[43m_iterator\u001b[49m\u001b[43m)\u001b[49m\n\u001b[1;32m   1202\u001b[0m \u001b[38;5;28;01mexcept\u001b[39;00m \u001b[38;5;167;01mStopIteration\u001b[39;00m:\n\u001b[1;32m   1203\u001b[0m     \u001b[38;5;28mself\u001b[39m\u001b[38;5;241m.\u001b[39m_iterator \u001b[38;5;241m=\u001b[39m \u001b[38;5;28;01mNone\u001b[39;00m\n",
      "File \u001b[0;32m~/Documents/Projects/PyProjects/virtenv3/lib/python3.10/site-packages/kafka/consumer/group.py:1116\u001b[0m, in \u001b[0;36mKafkaConsumer._message_generator_v2\u001b[0;34m(self)\u001b[0m\n\u001b[1;32m   1114\u001b[0m \u001b[38;5;28;01mdef\u001b[39;00m \u001b[38;5;21m_message_generator_v2\u001b[39m(\u001b[38;5;28mself\u001b[39m):\n\u001b[1;32m   1115\u001b[0m     timeout_ms \u001b[38;5;241m=\u001b[39m \u001b[38;5;241m1000\u001b[39m \u001b[38;5;241m*\u001b[39m (\u001b[38;5;28mself\u001b[39m\u001b[38;5;241m.\u001b[39m_consumer_timeout \u001b[38;5;241m-\u001b[39m time\u001b[38;5;241m.\u001b[39mtime())\n\u001b[0;32m-> 1116\u001b[0m     record_map \u001b[38;5;241m=\u001b[39m \u001b[38;5;28;43mself\u001b[39;49m\u001b[38;5;241;43m.\u001b[39;49m\u001b[43mpoll\u001b[49m\u001b[43m(\u001b[49m\u001b[43mtimeout_ms\u001b[49m\u001b[38;5;241;43m=\u001b[39;49m\u001b[43mtimeout_ms\u001b[49m\u001b[43m,\u001b[49m\u001b[43m \u001b[49m\u001b[43mupdate_offsets\u001b[49m\u001b[38;5;241;43m=\u001b[39;49m\u001b[38;5;28;43;01mFalse\u001b[39;49;00m\u001b[43m)\u001b[49m\n\u001b[1;32m   1117\u001b[0m     \u001b[38;5;28;01mfor\u001b[39;00m tp, records \u001b[38;5;129;01min\u001b[39;00m six\u001b[38;5;241m.\u001b[39miteritems(record_map):\n\u001b[1;32m   1118\u001b[0m         \u001b[38;5;66;03m# Generators are stateful, and it is possible that the tp / records\u001b[39;00m\n\u001b[1;32m   1119\u001b[0m         \u001b[38;5;66;03m# here may become stale during iteration -- i.e., we seek to a\u001b[39;00m\n\u001b[1;32m   1120\u001b[0m         \u001b[38;5;66;03m# different offset, pause consumption, or lose assignment.\u001b[39;00m\n\u001b[1;32m   1121\u001b[0m         \u001b[38;5;28;01mfor\u001b[39;00m record \u001b[38;5;129;01min\u001b[39;00m records:\n\u001b[1;32m   1122\u001b[0m             \u001b[38;5;66;03m# is_fetchable(tp) should handle assignment changes and offset\u001b[39;00m\n\u001b[1;32m   1123\u001b[0m             \u001b[38;5;66;03m# resets; for all other changes (e.g., seeks) we'll rely on the\u001b[39;00m\n\u001b[1;32m   1124\u001b[0m             \u001b[38;5;66;03m# outer function destroying the existing iterator/generator\u001b[39;00m\n\u001b[1;32m   1125\u001b[0m             \u001b[38;5;66;03m# via self._iterator = None\u001b[39;00m\n",
      "File \u001b[0;32m~/Documents/Projects/PyProjects/virtenv3/lib/python3.10/site-packages/kafka/consumer/group.py:655\u001b[0m, in \u001b[0;36mKafkaConsumer.poll\u001b[0;34m(self, timeout_ms, max_records, update_offsets)\u001b[0m\n\u001b[1;32m    653\u001b[0m remaining \u001b[38;5;241m=\u001b[39m timeout_ms\n\u001b[1;32m    654\u001b[0m \u001b[38;5;28;01mwhile\u001b[39;00m \u001b[38;5;28;01mTrue\u001b[39;00m:\n\u001b[0;32m--> 655\u001b[0m     records \u001b[38;5;241m=\u001b[39m \u001b[38;5;28;43mself\u001b[39;49m\u001b[38;5;241;43m.\u001b[39;49m\u001b[43m_poll_once\u001b[49m\u001b[43m(\u001b[49m\u001b[43mremaining\u001b[49m\u001b[43m,\u001b[49m\u001b[43m \u001b[49m\u001b[43mmax_records\u001b[49m\u001b[43m,\u001b[49m\u001b[43m \u001b[49m\u001b[43mupdate_offsets\u001b[49m\u001b[38;5;241;43m=\u001b[39;49m\u001b[43mupdate_offsets\u001b[49m\u001b[43m)\u001b[49m\n\u001b[1;32m    656\u001b[0m     \u001b[38;5;28;01mif\u001b[39;00m records:\n\u001b[1;32m    657\u001b[0m         \u001b[38;5;28;01mreturn\u001b[39;00m records\n",
      "File \u001b[0;32m~/Documents/Projects/PyProjects/virtenv3/lib/python3.10/site-packages/kafka/consumer/group.py:702\u001b[0m, in \u001b[0;36mKafkaConsumer._poll_once\u001b[0;34m(self, timeout_ms, max_records, update_offsets)\u001b[0m\n\u001b[1;32m    699\u001b[0m     \u001b[38;5;28mself\u001b[39m\u001b[38;5;241m.\u001b[39m_client\u001b[38;5;241m.\u001b[39mpoll(timeout_ms\u001b[38;5;241m=\u001b[39m\u001b[38;5;241m0\u001b[39m)\n\u001b[1;32m    701\u001b[0m timeout_ms \u001b[38;5;241m=\u001b[39m \u001b[38;5;28mmin\u001b[39m(timeout_ms, \u001b[38;5;28mself\u001b[39m\u001b[38;5;241m.\u001b[39m_coordinator\u001b[38;5;241m.\u001b[39mtime_to_next_poll() \u001b[38;5;241m*\u001b[39m \u001b[38;5;241m1000\u001b[39m)\n\u001b[0;32m--> 702\u001b[0m \u001b[38;5;28;43mself\u001b[39;49m\u001b[38;5;241;43m.\u001b[39;49m\u001b[43m_client\u001b[49m\u001b[38;5;241;43m.\u001b[39;49m\u001b[43mpoll\u001b[49m\u001b[43m(\u001b[49m\u001b[43mtimeout_ms\u001b[49m\u001b[38;5;241;43m=\u001b[39;49m\u001b[43mtimeout_ms\u001b[49m\u001b[43m)\u001b[49m\n\u001b[1;32m    703\u001b[0m \u001b[38;5;66;03m# after the long poll, we should check whether the group needs to rebalance\u001b[39;00m\n\u001b[1;32m    704\u001b[0m \u001b[38;5;66;03m# prior to returning data so that the group can stabilize faster\u001b[39;00m\n\u001b[1;32m    705\u001b[0m \u001b[38;5;28;01mif\u001b[39;00m \u001b[38;5;28mself\u001b[39m\u001b[38;5;241m.\u001b[39m_coordinator\u001b[38;5;241m.\u001b[39mneed_rejoin():\n",
      "File \u001b[0;32m~/Documents/Projects/PyProjects/virtenv3/lib/python3.10/site-packages/kafka/client_async.py:602\u001b[0m, in \u001b[0;36mKafkaClient.poll\u001b[0;34m(self, timeout_ms, future)\u001b[0m\n\u001b[1;32m    599\u001b[0m             timeout \u001b[38;5;241m=\u001b[39m \u001b[38;5;28mmin\u001b[39m(timeout, \u001b[38;5;28mself\u001b[39m\u001b[38;5;241m.\u001b[39mconfig[\u001b[38;5;124m'\u001b[39m\u001b[38;5;124mretry_backoff_ms\u001b[39m\u001b[38;5;124m'\u001b[39m])\n\u001b[1;32m    600\u001b[0m         timeout \u001b[38;5;241m=\u001b[39m \u001b[38;5;28mmax\u001b[39m(\u001b[38;5;241m0\u001b[39m, timeout)  \u001b[38;5;66;03m# avoid negative timeouts\u001b[39;00m\n\u001b[0;32m--> 602\u001b[0m     \u001b[38;5;28;43mself\u001b[39;49m\u001b[38;5;241;43m.\u001b[39;49m\u001b[43m_poll\u001b[49m\u001b[43m(\u001b[49m\u001b[43mtimeout\u001b[49m\u001b[43m \u001b[49m\u001b[38;5;241;43m/\u001b[39;49m\u001b[43m \u001b[49m\u001b[38;5;241;43m1000\u001b[39;49m\u001b[43m)\u001b[49m\n\u001b[1;32m    604\u001b[0m \u001b[38;5;66;03m# called without the lock to avoid deadlock potential\u001b[39;00m\n\u001b[1;32m    605\u001b[0m \u001b[38;5;66;03m# if handlers need to acquire locks\u001b[39;00m\n\u001b[1;32m    606\u001b[0m responses\u001b[38;5;241m.\u001b[39mextend(\u001b[38;5;28mself\u001b[39m\u001b[38;5;241m.\u001b[39m_fire_pending_completed_requests())\n",
      "File \u001b[0;32m~/Documents/Projects/PyProjects/virtenv3/lib/python3.10/site-packages/kafka/client_async.py:634\u001b[0m, in \u001b[0;36mKafkaClient._poll\u001b[0;34m(self, timeout)\u001b[0m\n\u001b[1;32m    631\u001b[0m \u001b[38;5;28mself\u001b[39m\u001b[38;5;241m.\u001b[39m_register_send_sockets()\n\u001b[1;32m    633\u001b[0m start_select \u001b[38;5;241m=\u001b[39m time\u001b[38;5;241m.\u001b[39mtime()\n\u001b[0;32m--> 634\u001b[0m ready \u001b[38;5;241m=\u001b[39m \u001b[38;5;28;43mself\u001b[39;49m\u001b[38;5;241;43m.\u001b[39;49m\u001b[43m_selector\u001b[49m\u001b[38;5;241;43m.\u001b[39;49m\u001b[43mselect\u001b[49m\u001b[43m(\u001b[49m\u001b[43mtimeout\u001b[49m\u001b[43m)\u001b[49m\n\u001b[1;32m    635\u001b[0m end_select \u001b[38;5;241m=\u001b[39m time\u001b[38;5;241m.\u001b[39mtime()\n\u001b[1;32m    636\u001b[0m \u001b[38;5;28;01mif\u001b[39;00m \u001b[38;5;28mself\u001b[39m\u001b[38;5;241m.\u001b[39m_sensors:\n",
      "File \u001b[0;32m/usr/lib/python3.10/selectors.py:469\u001b[0m, in \u001b[0;36mEpollSelector.select\u001b[0;34m(self, timeout)\u001b[0m\n\u001b[1;32m    467\u001b[0m ready \u001b[38;5;241m=\u001b[39m []\n\u001b[1;32m    468\u001b[0m \u001b[38;5;28;01mtry\u001b[39;00m:\n\u001b[0;32m--> 469\u001b[0m     fd_event_list \u001b[38;5;241m=\u001b[39m \u001b[38;5;28;43mself\u001b[39;49m\u001b[38;5;241;43m.\u001b[39;49m\u001b[43m_selector\u001b[49m\u001b[38;5;241;43m.\u001b[39;49m\u001b[43mpoll\u001b[49m\u001b[43m(\u001b[49m\u001b[43mtimeout\u001b[49m\u001b[43m,\u001b[49m\u001b[43m \u001b[49m\u001b[43mmax_ev\u001b[49m\u001b[43m)\u001b[49m\n\u001b[1;32m    470\u001b[0m \u001b[38;5;28;01mexcept\u001b[39;00m \u001b[38;5;167;01mInterruptedError\u001b[39;00m:\n\u001b[1;32m    471\u001b[0m     \u001b[38;5;28;01mreturn\u001b[39;00m ready\n",
      "\u001b[0;31mKeyboardInterrupt\u001b[0m: "
     ]
    }
   ],
   "source": [
    "for count, i in enumerate(consumer):\n",
    "    with s3.open(\"s3://kafka-stock-market-tutorial-youtube-darshil/stock_market_{}.json\".format(count), 'w') as file:\n",
    "        json.dump(i.value, file)    "
   ]
  },
  {
   "cell_type": "code",
   "execution_count": null,
   "id": "7b811cb6",
   "metadata": {},
   "outputs": [],
   "source": []
  }
 ],
 "metadata": {
  "kernelspec": {
   "display_name": "Python 3 (ipykernel)",
   "language": "python",
   "name": "python3"
  },
  "language_info": {
   "codemirror_mode": {
    "name": "ipython",
    "version": 3
   },
   "file_extension": ".py",
   "mimetype": "text/x-python",
   "name": "python",
   "nbconvert_exporter": "python",
   "pygments_lexer": "ipython3",
   "version": "3.10.12"
  }
 },
 "nbformat": 4,
 "nbformat_minor": 5
}
